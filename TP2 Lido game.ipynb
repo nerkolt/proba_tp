{
 "cells": [
  {
   "cell_type": "markdown",
   "metadata": {},
   "source": [
    "# Simulation du jeux de LIDO simplifié"
   ]
  },
  {
   "cell_type": "markdown",
   "metadata": {},
   "source": [
    "## Principe\n",
    "On considére un jeux de Lido simple:\n",
    "on dispose d'un un seul pion.\n",
    "\n",
    "- Etape 0 :\n",
    "Le pion doit sort de sa prison lorsqu'on obtient un 6.\n",
    "\n",
    "- Etape 1 :\n",
    "Le pion doit atteindre exactement une position cible situé à N pas de distance de sa prison \n",
    "\n",
    "Soit $X_n$ la variable aléatoire qui represente le nombre de coup nécéssaire pour atteindre la positions cible.\n",
    "\n",
    "**Objectif 1** : Simuler le jeux \n",
    "\n",
    "**Objectif 2** : Calculer une estimation de l'éspérance mathématique de $X_n$ en utilisant `python`\n",
    "\n",
    "**Objéctif 3** : Observer la variation de $\\mathbb{E}(X_n)$ en fonction de $n$\n",
    "\n",
    "<img src=\"LIDO.png\">\n"
   ]
  },
  {
   "cell_type": "code",
   "execution_count": 6,
   "metadata": {},
   "outputs": [],
   "source": [
    "import numpy as np"
   ]
  },
  {
   "cell_type": "code",
   "execution_count": 7,
   "metadata": {},
   "outputs": [
    {
     "data": {
      "text/plain": [
       "2"
      ]
     },
     "execution_count": 7,
     "metadata": {},
     "output_type": "execute_result"
    }
   ],
   "source": [
    "int(np.random.choice(range(1,7),1))"
   ]
  },
  {
   "cell_type": "code",
   "execution_count": 8,
   "metadata": {},
   "outputs": [],
   "source": [
    "#conclusion\n",
    "##on va convertir l'array en entier avec la fonction 'int()'"
   ]
  },
  {
   "cell_type": "markdown",
   "metadata": {},
   "source": [
    "### Simulation du lancé de dé"
   ]
  },
  {
   "cell_type": "code",
   "execution_count": 9,
   "metadata": {},
   "outputs": [],
   "source": [
    "def Roll():\n",
    "    return int(np.random.choice(7))"
   ]
  },
  {
   "cell_type": "code",
   "execution_count": 10,
   "metadata": {},
   "outputs": [
    {
     "name": "stdout",
     "output_type": "stream",
     "text": [
      "3\n",
      "2\n",
      "6\n",
      "3\n",
      "2\n",
      "3\n",
      "5\n",
      "1\n",
      "1\n",
      "3\n"
     ]
    }
   ],
   "source": [
    "for i in range(10) :\n",
    "   print(Roll())"
   ]
  },
  {
   "cell_type": "markdown",
   "metadata": {},
   "source": [
    "### Compléter le code et commenter"
   ]
  },
  {
   "cell_type": "code",
   "execution_count": 11,
   "metadata": {
    "scrolled": false
   },
   "outputs": [
    {
     "name": "stdout",
     "output_type": "stream",
     "text": [
      "6 1 1\n",
      "5 6 2\n",
      "4 10 3\n",
      "5 15 4\n",
      "3 18 5\n",
      "3 18 6\n",
      "4 18 7\n",
      "2 20 8\n"
     ]
    }
   ],
   "source": [
    "A=0 #la position\n",
    "NA=0 # la valeur du dé (apres lancement)\n",
    "N=20 #position de la cible\n",
    "c=0 #le compteur\n",
    "while (A<N) :\n",
    "    NA=Roll()\n",
    "    if NA==6 and A==0:\n",
    "        A=1\n",
    "        c+=1\n",
    "        print(NA,A,c)\n",
    "    elif A>0 and NA+A<N:\n",
    "        A+=NA\n",
    "        c+=1\n",
    "        print(NA,A,c)\n",
    "    elif NA+A==N:\n",
    "        c+=1\n",
    "        A+=NA\n",
    "        print(NA,A,c)\n",
    "        break\n",
    "    else : \n",
    "        c+=1\n",
    "        print(NA,A,c)\n",
    "    "
   ]
  },
  {
   "cell_type": "markdown",
   "metadata": {},
   "source": [
    "### Simulation\n",
    "Ecrire une foction `sim` qui simule le jeux et qui prend comme variable le nombre de pas $n$ nécessazire pour atteindre la cible"
   ]
  },
  {
   "cell_type": "code",
   "execution_count": 12,
   "metadata": {},
   "outputs": [],
   "source": [
    "#c'est la simulation du jeu lido avec grille longueur= N \n",
    "##le principe du jeu : pouvoir determiner le plus petit nombre de coups possible pour atteindre la destination plus vite"
   ]
  },
  {
   "cell_type": "code",
   "execution_count": 13,
   "metadata": {},
   "outputs": [],
   "source": [
    "def sim(N) : \n",
    "    A=0\n",
    "    NA=10\n",
    "    c=0\n",
    "    while (A<N) :\n",
    "        NA=Roll()\n",
    "        if NA==6 and A==0:\n",
    "            A=1\n",
    "            c=c+1\n",
    "        elif A>0 and NA+A<N:\n",
    "            A=A+NA\n",
    "            c=c+1\n",
    "        elif NA+A==N:\n",
    "            c=c+1\n",
    "            A=A+NA\n",
    "            break\n",
    "        else :\n",
    "            c=c+1\n",
    "    return c"
   ]
  },
  {
   "cell_type": "code",
   "execution_count": 14,
   "metadata": {},
   "outputs": [
    {
     "data": {
      "text/plain": [
       "38"
      ]
     },
     "execution_count": 14,
     "metadata": {},
     "output_type": "execute_result"
    }
   ],
   "source": [
    "sim(20)"
   ]
  },
  {
   "cell_type": "markdown",
   "metadata": {},
   "source": [
    "### Simulation de $10^5$  scénario "
   ]
  },
  {
   "cell_type": "code",
   "execution_count": 15,
   "metadata": {},
   "outputs": [
    {
     "name": "stdout",
     "output_type": "stream",
     "text": [
      "10\n",
      "25\n",
      "24\n",
      "13\n",
      "22\n",
      "16\n",
      "24\n",
      "12\n",
      "19\n",
      "11\n"
     ]
    }
   ],
   "source": [
    "for i in range(10):\n",
    "    print(sim(20))"
   ]
  },
  {
   "cell_type": "code",
   "execution_count": 16,
   "metadata": {},
   "outputs": [],
   "source": [
    "#conclusion: on joue 100,000(cible est N=20 cases) fois le lido en moyenne on a presque(dans ce cas) 18~19 coups pour arriver a la cible"
   ]
  },
  {
   "cell_type": "code",
   "execution_count": 35,
   "metadata": {},
   "outputs": [
    {
     "data": {
      "text/plain": [
       "18.90618"
      ]
     },
     "execution_count": 35,
     "metadata": {},
     "output_type": "execute_result"
    }
   ],
   "source": [
    "L=[]\n",
    "for i in range(100000):\n",
    "    L.append(sim(20))\n",
    "def moyenne(L):\n",
    "    tot=0\n",
    "    for u in L:\n",
    "        tot=tot+u\n",
    "    return tot/len(L)\n",
    "moyenne(L)"
   ]
  },
  {
   "cell_type": "code",
   "execution_count": 18,
   "metadata": {},
   "outputs": [],
   "source": [
    "Freq=np.fromiter((sim(20) for i in range(10**5)),dtype=int)"
   ]
  },
  {
   "cell_type": "markdown",
   "metadata": {},
   "source": [
    "### on va faire 100,000 simulation du jeu "
   ]
  },
  {
   "cell_type": "code",
   "execution_count": 19,
   "metadata": {},
   "outputs": [],
   "source": [
    "ESP=Freq.sum()/10**5"
   ]
  },
  {
   "cell_type": "code",
   "execution_count": 20,
   "metadata": {},
   "outputs": [],
   "source": [
    "x=list(range(10,20))"
   ]
  },
  {
   "cell_type": "code",
   "execution_count": 21,
   "metadata": {},
   "outputs": [],
   "source": [
    "y=[np.fromiter((sim(u) for i in range(5*10**4)),dtype=int).sum()/50000 for u in x]"
   ]
  },
  {
   "cell_type": "code",
   "execution_count": 29,
   "metadata": {},
   "outputs": [],
   "source": [
    "import matplotlib.pyplot as plt\n",
    "xx=np.linspace(10,20,50)\n",
    "yy=0.33709890909090906*xx+12.150573818181819"
   ]
  },
  {
   "cell_type": "code",
   "execution_count": 33,
   "metadata": {},
   "outputs": [
    {
     "data": {
      "text/plain": [
       "[<matplotlib.lines.Line2D at 0x27306b8da60>]"
      ]
     },
     "execution_count": 33,
     "metadata": {},
     "output_type": "execute_result"
    },
    {
     "data": {
      "image/png": "[encoded data removed]",
      "text/plain": [
       "<Figure size 432x288 with 1 Axes>"
      ]
     },
     "metadata": {
      "needs_background": "light"
     },
     "output_type": "display_data"
    }
   ],
   "source": [
    "plt.plot(x,y,'r+')\n",
    "plt.plot(xx,yy,'g')"
   ]
  },
  {
   "cell_type": "markdown",
   "metadata": {},
   "source": [
    "# les points x,y seront noté(representé)sous la forme d'étoiles * (ou + )\n",
    "# la droite avec la couleur precisé"
   ]
  },
  {
   "cell_type": "markdown",
   "metadata": {},
   "source": [
    "# on va utilisé l'esperence suivant la valeur de N quelconque pour voir la forme du graph(la courbe) d'apres le nuage des points"
   ]
  },
  {
   "cell_type": "markdown",
   "metadata": {},
   "source": [
    " ## conclusion : l'esperence de E(x)=a*N+b cad la fonction d'une droite lineaire affine\n",
    " \n",
    " \n",
    "$$\\mathbb{E}(X_n)=0.337\\times n + 12.150$$\n"
   ]
  },
  {
   "cell_type": "code",
   "execution_count": 24,
   "metadata": {},
   "outputs": [],
   "source": [
    "from scipy import stats\n",
    "import numpy as np\n",
    "slope, intercept, r_value, p_value, std_err = stats.linregress(x,y)"
   ]
  },
  {
   "cell_type": "markdown",
   "metadata": {},
   "source": [
    "# a=la pente de la droite (slope)"
   ]
  },
  {
   "cell_type": "code",
   "execution_count": 25,
   "metadata": {},
   "outputs": [
    {
     "data": {
      "text/plain": [
       "0.33709890909090906"
      ]
     },
     "execution_count": 25,
     "metadata": {},
     "output_type": "execute_result"
    }
   ],
   "source": [
    "slope"
   ]
  },
  {
   "cell_type": "markdown",
   "metadata": {},
   "source": [
    "# b=l'intersection de la droite avec l'origine (intercept)"
   ]
  },
  {
   "cell_type": "code",
   "execution_count": 26,
   "metadata": {},
   "outputs": [
    {
     "data": {
      "text/plain": [
       "12.150573818181819"
      ]
     },
     "execution_count": 26,
     "metadata": {},
     "output_type": "execute_result"
    }
   ],
   "source": [
    "intercept\n"
   ]
  },
  {
   "cell_type": "markdown",
   "metadata": {},
   "source": [
    "## conclusion :  *il existe un droite qui parcours tous les points N du graph suivant les valeurs de N et E\n",
    "\n",
    "##  *si on tire un theoreme(expression mathematique)de la simulation on peut abondonné les experiences et baser  les recherches en utilisons seulement la formule generale\n",
    "              *"
   ]
  }
 ],
 "metadata": {
  "kernelspec": {
   "display_name": "Python 3",
   "language": "python",
   "name": "python3"
  }
 },
 "nbformat": 4,
 "nbformat_minor": 4
}
